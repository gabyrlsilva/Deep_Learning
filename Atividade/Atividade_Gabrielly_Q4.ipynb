{
 "cells": [
  {
   "cell_type": "code",
   "execution_count": 1,
   "metadata": {},
   "outputs": [],
   "source": [
    "# Questão 4\n",
    "\n",
    "# Dataset MNIST\n",
    "# Modelos Fully Connected e CNN\n",
    "# MLP, QDA, KNN\n",
    "# Tabela"
   ]
  },
  {
   "cell_type": "markdown",
   "metadata": {},
   "source": [
    "# Imports"
   ]
  },
  {
   "cell_type": "code",
   "execution_count": 1,
   "metadata": {},
   "outputs": [],
   "source": [
    "import pandas as pd\n",
    "import numpy as np\n",
    "from keras.datasets import mnist\n",
    "from keras.utils.np_utils import to_categorical\n",
    "from tensorflow.keras.models import Sequential\n",
    "from tensorflow.keras.layers import Flatten, Activation, Conv2D, MaxPool2D, Dense\n",
    "from tensorflow.keras import backend \n",
    "from tensorflow.keras.layers import Dense\n",
    "from tensorflow.keras.optimizers import SGD\n",
    "\n",
    "from sklearn.neighbors import KNeighborsClassifier\n",
    "from sklearn.discriminant_analysis import QuadraticDiscriminantAnalysis\n",
    "from sklearn.neural_network import MLPClassifier\n",
    "from sklearn.metrics import accuracy_score\n",
    "import time"
   ]
  },
  {
   "cell_type": "markdown",
   "metadata": {},
   "source": [
    "# Carregando a base"
   ]
  },
  {
   "cell_type": "code",
   "execution_count": 2,
   "metadata": {},
   "outputs": [],
   "source": [
    "(X_train, y_train), (X_test, y_test) = mnist.load_data(path='/tmp/mnist.npz')"
   ]
  },
  {
   "cell_type": "code",
   "execution_count": 3,
   "metadata": {},
   "outputs": [
    {
     "data": {
      "text/plain": [
       "(60000, 28, 28)"
      ]
     },
     "execution_count": 3,
     "metadata": {},
     "output_type": "execute_result"
    }
   ],
   "source": [
    "X_train.shape"
   ]
  },
  {
   "cell_type": "code",
   "execution_count": 4,
   "metadata": {},
   "outputs": [],
   "source": [
    "acuracia = []\n",
    "treino = []\n",
    "teste = []"
   ]
  },
  {
   "cell_type": "markdown",
   "metadata": {},
   "source": [
    "# CNN"
   ]
  },
  {
   "cell_type": "code",
   "execution_count": 5,
   "metadata": {},
   "outputs": [],
   "source": [
    "#one hot encoding\n",
    "\n",
    "y_train_categ = to_categorical(y_train) \n",
    "y_test_categ = to_categorical(y_test)"
   ]
  },
  {
   "cell_type": "code",
   "execution_count": 6,
   "metadata": {},
   "outputs": [],
   "source": [
    "X_train = X_train.reshape(-1, 28, 28, 1)\n",
    "X_test = X_test.reshape(-1, 28, 28, 1)"
   ]
  },
  {
   "cell_type": "code",
   "execution_count": 7,
   "metadata": {},
   "outputs": [],
   "source": [
    "backend.clear_session()\n",
    "\n",
    "#AM: Feature extraction stages\n",
    "model = Sequential()\n",
    "model.add(Conv2D(64, (3,3), input_shape=(28, 28, 1), padding=('valid')))\n",
    "model.add(MaxPool2D(pool_size=(2,2)))\n",
    "model.add(Activation('relu'))\n",
    "\n",
    "model.add(Flatten())\n",
    "\n",
    "#AM: Fully connected stages (Classification)\n",
    "model.add(Dense(128, activation='relu'))\n",
    "model.add(Dense(10, activation='softmax'))\n",
    "\n",
    "model.compile(optimizer='rmsprop', loss='categorical_crossentropy', metrics=['accuracy'])"
   ]
  },
  {
   "cell_type": "code",
   "execution_count": 8,
   "metadata": {},
   "outputs": [
    {
     "name": "stdout",
     "output_type": "stream",
     "text": [
      "Epoch 1/10\n",
      "329/329 [==============================] - 27s 83ms/step - loss: 3.5002 - accuracy: 0.9057 - val_loss: 0.1127 - val_accuracy: 0.9706\n",
      "Epoch 2/10\n",
      "329/329 [==============================] - 27s 82ms/step - loss: 0.0746 - accuracy: 0.9791 - val_loss: 0.0914 - val_accuracy: 0.9756\n",
      "Epoch 3/10\n",
      "329/329 [==============================] - 28s 84ms/step - loss: 0.0348 - accuracy: 0.9897 - val_loss: 0.0933 - val_accuracy: 0.9793\n",
      "Epoch 4/10\n",
      "329/329 [==============================] - 31s 93ms/step - loss: 0.0188 - accuracy: 0.9942 - val_loss: 0.1008 - val_accuracy: 0.9798\n",
      "Epoch 5/10\n",
      "329/329 [==============================] - 30s 90ms/step - loss: 0.0114 - accuracy: 0.9965 - val_loss: 0.1342 - val_accuracy: 0.9792\n",
      "Epoch 6/10\n",
      "329/329 [==============================] - 31s 95ms/step - loss: 0.0074 - accuracy: 0.9975 - val_loss: 0.1247 - val_accuracy: 0.9822\n",
      "Epoch 7/10\n",
      "329/329 [==============================] - 31s 95ms/step - loss: 0.0069 - accuracy: 0.9981 - val_loss: 0.1545 - val_accuracy: 0.9809\n",
      "Epoch 8/10\n",
      "329/329 [==============================] - 29s 89ms/step - loss: 0.0048 - accuracy: 0.9988 - val_loss: 0.1742 - val_accuracy: 0.9831\n",
      "Epoch 9/10\n",
      "329/329 [==============================] - 27s 83ms/step - loss: 0.0069 - accuracy: 0.9982 - val_loss: 0.2039 - val_accuracy: 0.9811\n",
      "Epoch 10/10\n",
      "329/329 [==============================] - 28s 84ms/step - loss: 0.0050 - accuracy: 0.9988 - val_loss: 0.2109 - val_accuracy: 0.9803\n"
     ]
    }
   ],
   "source": [
    "ti_treino = time.time()\n",
    "h = model.fit(X_train, y_train_categ, batch_size=128, epochs=10, verbose=1, validation_split=0.3)\n",
    "tf_treino = time.time()\n",
    "\n",
    "time_treino_cnn = tf_treino - ti_treino\n",
    "\n",
    "treino.append(time_treino_cnn)"
   ]
  },
  {
   "cell_type": "code",
   "execution_count": 9,
   "metadata": {},
   "outputs": [
    {
     "name": "stdout",
     "output_type": "stream",
     "text": [
      "313/313 [==============================] - 3s 10ms/step - loss: 0.2068 - accuracy: 0.9810\n"
     ]
    }
   ],
   "source": [
    "ti_teste = time.time()\n",
    "scores = model.evaluate(X_test, y_test_categ)\n",
    "tf_teste = time.time()\n",
    "\n",
    "time_teste_cnn = tf_teste - ti_teste\n",
    "\n",
    "teste.append(time_teste_cnn)\n",
    "acuracia.append(scores[1])"
   ]
  },
  {
   "cell_type": "code",
   "execution_count": 10,
   "metadata": {},
   "outputs": [
    {
     "name": "stdout",
     "output_type": "stream",
     "text": [
      "Train ACC:  0.9810000061988831\n",
      "Time Treino:  292.3414671421051\n",
      "Time Teste:  3.0946497917175293\n"
     ]
    }
   ],
   "source": [
    "print('Train ACC: ', scores[1])\n",
    "print('Time Treino: ', time_treino_cnn)\n",
    "print('Time Teste: ', time_teste_cnn)\n"
   ]
  },
  {
   "cell_type": "markdown",
   "metadata": {},
   "source": [
    "# Fully Connected"
   ]
  },
  {
   "cell_type": "code",
   "execution_count": 11,
   "metadata": {},
   "outputs": [],
   "source": [
    "X_train = X_train.reshape(-1, 28*28)\n",
    "X_test = X_test.reshape(-1, 28*28)"
   ]
  },
  {
   "cell_type": "code",
   "execution_count": 12,
   "metadata": {},
   "outputs": [],
   "source": [
    "X_train = X_train.astype('float32')/255\n",
    "X_test = X_test.astype('float32')/255"
   ]
  },
  {
   "cell_type": "code",
   "execution_count": 14,
   "metadata": {},
   "outputs": [],
   "source": [
    "y_train_categ = to_categorical(y_train) \n",
    "y_test_categ = to_categorical(y_test)"
   ]
  },
  {
   "cell_type": "code",
   "execution_count": 15,
   "metadata": {},
   "outputs": [],
   "source": [
    "model = Sequential()\n",
    "model.add(Dense(512, input_dim=28*28, activation='relu'))\n",
    "model.add(Dense(256, activation='relu'))\n",
    "model.add(Dense(128, activation='relu'))\n",
    "model.add(Dense(32, activation='relu'))\n",
    "model.add(Dense(10, activation='softmax'))\n",
    "\n",
    "model.compile(optimizer='rmsprop', loss='categorical_crossentropy', metrics=['accuracy'])\n"
   ]
  },
  {
   "cell_type": "code",
   "execution_count": 16,
   "metadata": {},
   "outputs": [
    {
     "name": "stdout",
     "output_type": "stream",
     "text": [
      "Epoch 1/10\n",
      "329/329 [==============================] - 5s 16ms/step - loss: 0.3292 - accuracy: 0.8972 - val_loss: 0.1396 - val_accuracy: 0.9608\n",
      "Epoch 2/10\n",
      "329/329 [==============================] - 5s 14ms/step - loss: 0.1108 - accuracy: 0.9658 - val_loss: 0.1309 - val_accuracy: 0.9628\n",
      "Epoch 3/10\n",
      "329/329 [==============================] - 5s 14ms/step - loss: 0.0726 - accuracy: 0.9785 - val_loss: 0.1112 - val_accuracy: 0.9693\n",
      "Epoch 4/10\n",
      "329/329 [==============================] - 5s 14ms/step - loss: 0.0525 - accuracy: 0.9837 - val_loss: 0.1924 - val_accuracy: 0.9458\n",
      "Epoch 5/10\n",
      "329/329 [==============================] - 5s 14ms/step - loss: 0.0381 - accuracy: 0.9873 - val_loss: 0.3141 - val_accuracy: 0.9254\n",
      "Epoch 6/10\n",
      "329/329 [==============================] - 5s 14ms/step - loss: 0.0304 - accuracy: 0.9908 - val_loss: 0.1810 - val_accuracy: 0.9603\n",
      "Epoch 7/10\n",
      "329/329 [==============================] - 5s 15ms/step - loss: 0.0247 - accuracy: 0.9921 - val_loss: 0.1128 - val_accuracy: 0.9754\n",
      "Epoch 8/10\n",
      "329/329 [==============================] - 5s 15ms/step - loss: 0.0203 - accuracy: 0.9937 - val_loss: 0.1369 - val_accuracy: 0.9704\n",
      "Epoch 9/10\n",
      "329/329 [==============================] - 5s 15ms/step - loss: 0.0173 - accuracy: 0.9944 - val_loss: 0.1216 - val_accuracy: 0.9778\n",
      "Epoch 10/10\n",
      "329/329 [==============================] - 5s 14ms/step - loss: 0.0159 - accuracy: 0.9953 - val_loss: 0.1448 - val_accuracy: 0.9759\n"
     ]
    }
   ],
   "source": [
    "ti_treino = time.time()\n",
    "h = model.fit(X_train, y_train_categ, batch_size=128, epochs=10, verbose=1, validation_split=0.3)\n",
    "tf_treino = time.time()\n",
    "\n",
    "time_treino_fully = tf_treino - ti_treino\n",
    "treino.append(time_treino_fully)"
   ]
  },
  {
   "cell_type": "code",
   "execution_count": 17,
   "metadata": {},
   "outputs": [
    {
     "name": "stdout",
     "output_type": "stream",
     "text": [
      "313/313 [==============================] - 1s 3ms/step - loss: 0.1180 - accuracy: 0.9778\n"
     ]
    }
   ],
   "source": [
    "ti_teste = time.time()\n",
    "results = model.evaluate(X_test, y_test_categ)\n",
    "tf_teste = time.time()\n",
    "\n",
    "time_teste_fully = tf_teste - ti_teste\n",
    "\n",
    "teste.append(time_teste_fully)\n",
    "acuracia.append(results[1])"
   ]
  },
  {
   "cell_type": "code",
   "execution_count": 18,
   "metadata": {},
   "outputs": [
    {
     "name": "stdout",
     "output_type": "stream",
     "text": [
      "Train ACC:  0.9778000116348267\n",
      "Time Treino:  49.763123989105225\n",
      "Time Teste:  0.8901448249816895\n"
     ]
    }
   ],
   "source": [
    "print('Train ACC: ', results[1])\n",
    "print('Time Treino: ', time_treino_fully)\n",
    "print('Time Teste: ', time_teste_fully)"
   ]
  },
  {
   "cell_type": "markdown",
   "metadata": {},
   "source": [
    "# Classificador QDA"
   ]
  },
  {
   "cell_type": "code",
   "execution_count": 19,
   "metadata": {
    "scrolled": true
   },
   "outputs": [
    {
     "name": "stderr",
     "output_type": "stream",
     "text": [
      "/usr/local/lib/python3.8/dist-packages/sklearn/discriminant_analysis.py:715: UserWarning: Variables are collinear\n",
      "  warnings.warn(\"Variables are collinear\")\n"
     ]
    }
   ],
   "source": [
    "qda = QuadraticDiscriminantAnalysis()\n",
    "tit_qda = time.time()\n",
    "qda.fit(X_train, y_train)\n",
    "tft_qda = time.time()\n",
    "    \n",
    "ti_qda = time.time()\n",
    "qda_predicted = qda.predict(X_test) \n",
    "tf_qda = time.time()\n",
    "    \n",
    "acc_qda = accuracy_score(y_test, qda_predicted)\n",
    "acuracia.append(acc_qda)\n",
    "\n",
    "\n",
    "time_treino_qda = tft_qda - tit_qda\n",
    "treino.append(time_treino_qda)\n",
    "time_teste_qda = tf_qda - ti_qda\n",
    "teste.append(time_teste_qda)\n"
   ]
  },
  {
   "cell_type": "code",
   "execution_count": 20,
   "metadata": {},
   "outputs": [
    {
     "name": "stdout",
     "output_type": "stream",
     "text": [
      "Acurácia QDA : 0.1453\n",
      "Time de Treino:  13.37978458404541\n",
      "Time de Teste:  1.4336438179016113\n"
     ]
    }
   ],
   "source": [
    "print('Acurácia QDA :', acc_qda)\n",
    "print('Time de Treino: ', time_treino_qda)\n",
    "print('Time de Teste: ', time_teste_qda)"
   ]
  },
  {
   "cell_type": "markdown",
   "metadata": {},
   "source": [
    "# Classificador MLP"
   ]
  },
  {
   "cell_type": "code",
   "execution_count": 21,
   "metadata": {},
   "outputs": [
    {
     "name": "stdout",
     "output_type": "stream",
     "text": [
      "Iteration 1, loss = 1.54722883\n",
      "Iteration 2, loss = 0.69605536\n",
      "Iteration 3, loss = 0.53970285\n",
      "Iteration 4, loss = 0.44593405\n",
      "Iteration 5, loss = 0.38182521\n",
      "Iteration 6, loss = 0.33540007\n",
      "Iteration 7, loss = 0.30046182\n",
      "Iteration 8, loss = 0.27226998\n",
      "Iteration 9, loss = 0.24985880\n",
      "Iteration 10, loss = 0.23050847\n"
     ]
    },
    {
     "name": "stderr",
     "output_type": "stream",
     "text": [
      "/usr/local/lib/python3.8/dist-packages/sklearn/neural_network/_multilayer_perceptron.py:582: ConvergenceWarning: Stochastic Optimizer: Maximum iterations (10) reached and the optimization hasn't converged yet.\n",
      "  warnings.warn(\n"
     ]
    }
   ],
   "source": [
    "mlp = MLPClassifier(solver='adam', learning_rate='adaptive', hidden_layer_sizes = (100,), \n",
    "                        max_iter=10, learning_rate_init=5e-04, tol=1e-4, random_state = 1, verbose = 1)\n",
    "\n",
    "tit_mlp = time.time()\n",
    "mlp.fit(X_train, y_train_categ)\n",
    "tft_mlp = time.time()\n",
    "    \n",
    "ti_mlp = time.time()\n",
    "mlp_predicted = mlp.predict(X_test)\n",
    "tf_mlp = time.time()\n",
    "    \n",
    "    \n",
    "acc_mlp = accuracy_score(y_test_categ, mlp_predicted)\n",
    "acuracia.append(acc_mlp)\n",
    "\n",
    "time_treino_mlp = tft_mlp - tit_mlp\n",
    "treino.append(time_treino_mlp)\n",
    "time_teste_mlp = tf_mlp - ti_mlp\n",
    "teste.append(time_teste_mlp)"
   ]
  },
  {
   "cell_type": "code",
   "execution_count": 22,
   "metadata": {},
   "outputs": [
    {
     "name": "stdout",
     "output_type": "stream",
     "text": [
      "Acurácia MLP:  0.9386\n",
      "Time de Treino:  26.89128303527832\n",
      "Time de Teste:  0.13396310806274414\n"
     ]
    }
   ],
   "source": [
    "print('Acurácia MLP: ', acc_mlp)\n",
    "print('Time de Treino: ', time_treino_mlp)\n",
    "print(\"Time de Teste: \", time_teste_mlp)"
   ]
  },
  {
   "cell_type": "markdown",
   "metadata": {},
   "source": [
    "# Classificador KNN"
   ]
  },
  {
   "cell_type": "code",
   "execution_count": 23,
   "metadata": {},
   "outputs": [],
   "source": [
    "neigh = KNeighborsClassifier(n_neighbors=2)\n",
    "\n",
    "tit_knn = time.time()\n",
    "neigh.fit(X_train, y_train)\n",
    "tft_knn = time.time()"
   ]
  },
  {
   "cell_type": "code",
   "execution_count": 25,
   "metadata": {},
   "outputs": [],
   "source": [
    "ti_knn = time.time()\n",
    "knn_predicted = neigh.predict(X_test)\n",
    "tf_knn = time.time()"
   ]
  },
  {
   "cell_type": "code",
   "execution_count": 26,
   "metadata": {},
   "outputs": [],
   "source": [
    "acc_knn = accuracy_score(y_test, knn_predicted)\n",
    "acuracia.append(acc_knn)\n",
    "\n",
    "time_treino_knn = tft_knn - tit_knn\n",
    "treino.append(time_treino_knn)\n",
    "time_teste_knn = tf_knn - ti_knn\n",
    "teste.append(time_teste_knn)"
   ]
  },
  {
   "cell_type": "code",
   "execution_count": 27,
   "metadata": {},
   "outputs": [
    {
     "name": "stdout",
     "output_type": "stream",
     "text": [
      "Acurácia MLP:  0.9386\n",
      "Time de Treino:  27.704790353775024\n",
      "Time de Teste:  1082.9688112735748\n"
     ]
    }
   ],
   "source": [
    "print('Acurácia MLP: ', acc_mlp)\n",
    "print('Time de Treino: ', time_treino_knn)\n",
    "print(\"Time de Teste: \", time_teste_knn)"
   ]
  },
  {
   "cell_type": "code",
   "execution_count": null,
   "metadata": {},
   "outputs": [],
   "source": [
    "columns = ['Classificador', 'Acurácia', 'Tempo de Treino', 'Tempo de Teste']\n",
    "linha = ['CNN', 'Fully Connected', 'QDA', 'MLP', 'KNN']\n",
    "\n",
    "df_linha = pd.DataFrame(data = linha, columns = ['Classificador'] )\n",
    "df_acc = pd.DataFrame(data = acuracia, columns = ['Acurácia'])\n",
    "df_treino = pd.DataFrame(data = treino, columns = ['Tempo de Treino'])\n",
    "df_teste = pd.DataFrame(data = teste, columns = ['Tempo de Teste'])\n",
    "\n",
    "pd.concat([df_linha, df_acc, df_treino, df_teste], axis = 1, join = 'inner')"
   ]
  },
  {
   "cell_type": "code",
   "execution_count": null,
   "metadata": {},
   "outputs": [],
   "source": []
  }
 ],
 "metadata": {
  "kernelspec": {
   "display_name": "Python 3",
   "language": "python",
   "name": "python3"
  },
  "language_info": {
   "codemirror_mode": {
    "name": "ipython",
    "version": 3
   },
   "file_extension": ".py",
   "mimetype": "text/x-python",
   "name": "python",
   "nbconvert_exporter": "python",
   "pygments_lexer": "ipython3",
   "version": "3.8.2"
  }
 },
 "nbformat": 4,
 "nbformat_minor": 4
}

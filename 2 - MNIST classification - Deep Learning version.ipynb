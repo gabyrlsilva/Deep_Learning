{
 "cells": [
  {
   "cell_type": "code",
   "execution_count": 1,
   "metadata": {
    "colab": {},
    "colab_type": "code",
    "id": "5lewGRBNTAbo"
   },
   "outputs": [],
   "source": [
    "import numpy as np\n",
    "import pandas as pd\n",
    "%matplotlib inline\n",
    "import matplotlib.pyplot as plt"
   ]
  },
  {
   "cell_type": "code",
   "execution_count": 2,
   "metadata": {
    "colab": {
     "base_uri": "https://localhost:8080/",
     "height": 1000
    },
    "colab_type": "code",
    "executionInfo": {
     "elapsed": 39674,
     "status": "ok",
     "timestamp": 1574045898969,
     "user": {
      "displayName": "Aldisio Medeiros",
      "photoUrl": "https://lh3.googleusercontent.com/a-/AAuE7mDqMDyy76lGgZL6hD7IkL12705SvVVAXigDVw-Z=s64",
      "userId": "04296451157711964812"
     },
     "user_tz": 180
    },
    "id": "d9k5PwuXZYy-",
    "outputId": "3e0a7f8b-ff15-481f-d091-c3ad0e309da4"
   },
   "outputs": [],
   "source": [
    "#!pip install tensorflow==2.0.0"
   ]
  },
  {
   "cell_type": "markdown",
   "metadata": {
    "colab_type": "text",
    "id": "mWtGIS1FTdTF"
   },
   "source": [
    "# **Import MNIST Dataset**"
   ]
  },
  {
   "cell_type": "code",
   "execution_count": 3,
   "metadata": {
    "colab": {},
    "colab_type": "code",
    "id": "sTR_1_QzTgKk"
   },
   "outputs": [
    {
     "name": "stderr",
     "output_type": "stream",
     "text": [
      "Using TensorFlow backend.\n",
      "/home/aldisio/Documents/IFCE/Treineer/LAPISCO/Aulas/Deeplearning/aldisio-materiais-aula-deeplearning/notebooks-deeplearning/.env/lib/python3.6/site-packages/tensorflow/python/framework/dtypes.py:523: FutureWarning: Passing (type, 1) or '1type' as a synonym of type is deprecated; in a future version of numpy, it will be understood as (type, (1,)) / '(1,)type'.\n",
      "  _np_qint8 = np.dtype([(\"qint8\", np.int8, 1)])\n",
      "/home/aldisio/Documents/IFCE/Treineer/LAPISCO/Aulas/Deeplearning/aldisio-materiais-aula-deeplearning/notebooks-deeplearning/.env/lib/python3.6/site-packages/tensorflow/python/framework/dtypes.py:524: FutureWarning: Passing (type, 1) or '1type' as a synonym of type is deprecated; in a future version of numpy, it will be understood as (type, (1,)) / '(1,)type'.\n",
      "  _np_quint8 = np.dtype([(\"quint8\", np.uint8, 1)])\n",
      "/home/aldisio/Documents/IFCE/Treineer/LAPISCO/Aulas/Deeplearning/aldisio-materiais-aula-deeplearning/notebooks-deeplearning/.env/lib/python3.6/site-packages/tensorflow/python/framework/dtypes.py:525: FutureWarning: Passing (type, 1) or '1type' as a synonym of type is deprecated; in a future version of numpy, it will be understood as (type, (1,)) / '(1,)type'.\n",
      "  _np_qint16 = np.dtype([(\"qint16\", np.int16, 1)])\n",
      "/home/aldisio/Documents/IFCE/Treineer/LAPISCO/Aulas/Deeplearning/aldisio-materiais-aula-deeplearning/notebooks-deeplearning/.env/lib/python3.6/site-packages/tensorflow/python/framework/dtypes.py:526: FutureWarning: Passing (type, 1) or '1type' as a synonym of type is deprecated; in a future version of numpy, it will be understood as (type, (1,)) / '(1,)type'.\n",
      "  _np_quint16 = np.dtype([(\"quint16\", np.uint16, 1)])\n",
      "/home/aldisio/Documents/IFCE/Treineer/LAPISCO/Aulas/Deeplearning/aldisio-materiais-aula-deeplearning/notebooks-deeplearning/.env/lib/python3.6/site-packages/tensorflow/python/framework/dtypes.py:527: FutureWarning: Passing (type, 1) or '1type' as a synonym of type is deprecated; in a future version of numpy, it will be understood as (type, (1,)) / '(1,)type'.\n",
      "  _np_qint32 = np.dtype([(\"qint32\", np.int32, 1)])\n",
      "/home/aldisio/Documents/IFCE/Treineer/LAPISCO/Aulas/Deeplearning/aldisio-materiais-aula-deeplearning/notebooks-deeplearning/.env/lib/python3.6/site-packages/tensorflow/python/framework/dtypes.py:532: FutureWarning: Passing (type, 1) or '1type' as a synonym of type is deprecated; in a future version of numpy, it will be understood as (type, (1,)) / '(1,)type'.\n",
      "  np_resource = np.dtype([(\"resource\", np.ubyte, 1)])\n",
      "/home/aldisio/Documents/IFCE/Treineer/LAPISCO/Aulas/Deeplearning/aldisio-materiais-aula-deeplearning/notebooks-deeplearning/.env/lib/python3.6/site-packages/tensorboard/compat/tensorflow_stub/dtypes.py:541: FutureWarning: Passing (type, 1) or '1type' as a synonym of type is deprecated; in a future version of numpy, it will be understood as (type, (1,)) / '(1,)type'.\n",
      "  _np_qint8 = np.dtype([(\"qint8\", np.int8, 1)])\n",
      "/home/aldisio/Documents/IFCE/Treineer/LAPISCO/Aulas/Deeplearning/aldisio-materiais-aula-deeplearning/notebooks-deeplearning/.env/lib/python3.6/site-packages/tensorboard/compat/tensorflow_stub/dtypes.py:542: FutureWarning: Passing (type, 1) or '1type' as a synonym of type is deprecated; in a future version of numpy, it will be understood as (type, (1,)) / '(1,)type'.\n",
      "  _np_quint8 = np.dtype([(\"quint8\", np.uint8, 1)])\n",
      "/home/aldisio/Documents/IFCE/Treineer/LAPISCO/Aulas/Deeplearning/aldisio-materiais-aula-deeplearning/notebooks-deeplearning/.env/lib/python3.6/site-packages/tensorboard/compat/tensorflow_stub/dtypes.py:543: FutureWarning: Passing (type, 1) or '1type' as a synonym of type is deprecated; in a future version of numpy, it will be understood as (type, (1,)) / '(1,)type'.\n",
      "  _np_qint16 = np.dtype([(\"qint16\", np.int16, 1)])\n",
      "/home/aldisio/Documents/IFCE/Treineer/LAPISCO/Aulas/Deeplearning/aldisio-materiais-aula-deeplearning/notebooks-deeplearning/.env/lib/python3.6/site-packages/tensorboard/compat/tensorflow_stub/dtypes.py:544: FutureWarning: Passing (type, 1) or '1type' as a synonym of type is deprecated; in a future version of numpy, it will be understood as (type, (1,)) / '(1,)type'.\n",
      "  _np_quint16 = np.dtype([(\"quint16\", np.uint16, 1)])\n",
      "/home/aldisio/Documents/IFCE/Treineer/LAPISCO/Aulas/Deeplearning/aldisio-materiais-aula-deeplearning/notebooks-deeplearning/.env/lib/python3.6/site-packages/tensorboard/compat/tensorflow_stub/dtypes.py:545: FutureWarning: Passing (type, 1) or '1type' as a synonym of type is deprecated; in a future version of numpy, it will be understood as (type, (1,)) / '(1,)type'.\n",
      "  _np_qint32 = np.dtype([(\"qint32\", np.int32, 1)])\n",
      "/home/aldisio/Documents/IFCE/Treineer/LAPISCO/Aulas/Deeplearning/aldisio-materiais-aula-deeplearning/notebooks-deeplearning/.env/lib/python3.6/site-packages/tensorboard/compat/tensorflow_stub/dtypes.py:550: FutureWarning: Passing (type, 1) or '1type' as a synonym of type is deprecated; in a future version of numpy, it will be understood as (type, (1,)) / '(1,)type'.\n",
      "  np_resource = np.dtype([(\"resource\", np.ubyte, 1)])\n"
     ]
    }
   ],
   "source": [
    "from keras.datasets import mnist"
   ]
  },
  {
   "cell_type": "code",
   "execution_count": 4,
   "metadata": {
    "colab": {},
    "colab_type": "code",
    "id": "E0EjU8FDTj2q"
   },
   "outputs": [
    {
     "name": "stdout",
     "output_type": "stream",
     "text": [
      "Downloading data from https://s3.amazonaws.com/img-datasets/mnist.npz\n",
      "11493376/11490434 [==============================] - 2s 0us/step\n"
     ]
    }
   ],
   "source": [
    "(X_train, y_train), (X_test, y_test) = mnist.load_data(path='/tmp/mnist.npz')"
   ]
  },
  {
   "cell_type": "code",
   "execution_count": 5,
   "metadata": {
    "colab": {
     "base_uri": "https://localhost:8080/",
     "height": 35
    },
    "colab_type": "code",
    "executionInfo": {
     "elapsed": 1441,
     "status": "ok",
     "timestamp": 1574046010436,
     "user": {
      "displayName": "Aldisio Medeiros",
      "photoUrl": "https://lh3.googleusercontent.com/a-/AAuE7mDqMDyy76lGgZL6hD7IkL12705SvVVAXigDVw-Z=s64",
      "userId": "04296451157711964812"
     },
     "user_tz": 180
    },
    "id": "Gg_l3nv2TxQN",
    "outputId": "f4243869-6c13-4729-895d-a6fd734ab67f"
   },
   "outputs": [
    {
     "data": {
      "text/plain": [
       "(60000, 28, 28)"
      ]
     },
     "execution_count": 5,
     "metadata": {},
     "output_type": "execute_result"
    }
   ],
   "source": [
    "X_train.shape"
   ]
  },
  {
   "cell_type": "code",
   "execution_count": 6,
   "metadata": {
    "colab": {
     "base_uri": "https://localhost:8080/",
     "height": 35
    },
    "colab_type": "code",
    "executionInfo": {
     "elapsed": 590,
     "status": "ok",
     "timestamp": 1574046011528,
     "user": {
      "displayName": "Aldisio Medeiros",
      "photoUrl": "https://lh3.googleusercontent.com/a-/AAuE7mDqMDyy76lGgZL6hD7IkL12705SvVVAXigDVw-Z=s64",
      "userId": "04296451157711964812"
     },
     "user_tz": 180
    },
    "id": "GVHPWDOBT07-",
    "outputId": "a7a86d75-0806-4065-eec9-94151b9bd633"
   },
   "outputs": [
    {
     "data": {
      "text/plain": [
       "(10000, 28, 28)"
      ]
     },
     "execution_count": 6,
     "metadata": {},
     "output_type": "execute_result"
    }
   ],
   "source": [
    "X_test.shape"
   ]
  },
  {
   "cell_type": "code",
   "execution_count": 7,
   "metadata": {
    "colab": {
     "base_uri": "https://localhost:8080/",
     "height": 265
    },
    "colab_type": "code",
    "executionInfo": {
     "elapsed": 875,
     "status": "ok",
     "timestamp": 1574046013061,
     "user": {
      "displayName": "Aldisio Medeiros",
      "photoUrl": "https://lh3.googleusercontent.com/a-/AAuE7mDqMDyy76lGgZL6hD7IkL12705SvVVAXigDVw-Z=s64",
      "userId": "04296451157711964812"
     },
     "user_tz": 180
    },
    "id": "0HVoOBkaT2qU",
    "outputId": "4afafa3a-b8b7-4f41-9585-4ef22170cf15"
   },
   "outputs": [
    {
     "data": {
      "image/png": "[encoded data removed]",
      "text/plain": [
       "<Figure size 432x288 with 1 Axes>"
      ]
     },
     "metadata": {
      "needs_background": "light"
     },
     "output_type": "display_data"
    }
   ],
   "source": [
    "plt.imshow(X_train[150], cmap='gray')\n",
    "plt.show()"
   ]
  },
  {
   "cell_type": "markdown",
   "metadata": {
    "colab_type": "text",
    "id": "vaIFJzj8Uew5"
   },
   "source": [
    "# **Flattening image (Vetorizing)**"
   ]
  },
  {
   "cell_type": "code",
   "execution_count": 8,
   "metadata": {
    "colab": {},
    "colab_type": "code",
    "id": "8x9Pr9e1UkWZ"
   },
   "outputs": [],
   "source": [
    "#AM: Vetorizing\n",
    "X_train = X_train.reshape(-1, 28*28)\n",
    "X_test = X_test.reshape(-1, 28*28)"
   ]
  },
  {
   "cell_type": "code",
   "execution_count": 9,
   "metadata": {
    "colab": {},
    "colab_type": "code",
    "id": "v7t8oiZoU4kV"
   },
   "outputs": [],
   "source": [
    "#AM: Normalization\n",
    "X_train = X_train.astype('float32')/255\n",
    "X_test = X_test.astype('float32')/255"
   ]
  },
  {
   "cell_type": "code",
   "execution_count": 10,
   "metadata": {
    "colab": {
     "base_uri": "https://localhost:8080/",
     "height": 35
    },
    "colab_type": "code",
    "executionInfo": {
     "elapsed": 770,
     "status": "ok",
     "timestamp": 1574046021289,
     "user": {
      "displayName": "Aldisio Medeiros",
      "photoUrl": "https://lh3.googleusercontent.com/a-/AAuE7mDqMDyy76lGgZL6hD7IkL12705SvVVAXigDVw-Z=s64",
      "userId": "04296451157711964812"
     },
     "user_tz": 180
    },
    "id": "9AIYib2XVCut",
    "outputId": "4b79a3ed-57d5-4778-e211-47f61e8cf289"
   },
   "outputs": [
    {
     "data": {
      "text/plain": [
       "(60000, 784)"
      ]
     },
     "execution_count": 10,
     "metadata": {},
     "output_type": "execute_result"
    }
   ],
   "source": [
    "#AM: Transformated samples in one pixels vector (28x28=784) each.\n",
    "X_train.shape"
   ]
  },
  {
   "cell_type": "markdown",
   "metadata": {
    "colab_type": "text",
    "id": "C4SE-aL9WV3Z"
   },
   "source": [
    "## **One hot encoding**"
   ]
  },
  {
   "cell_type": "code",
   "execution_count": 11,
   "metadata": {
    "colab": {},
    "colab_type": "code",
    "id": "qmNcOT0FVF-r"
   },
   "outputs": [],
   "source": [
    "#AM: Adjust label to One-Hot encoding\n",
    "from keras.utils.np_utils import to_categorical\n",
    "\n",
    "#AM: Transform values 1 to 000000001, 2 to 000000010, 3 to 000000100, etc\n",
    "y_train_categ = to_categorical(y_train) \n",
    "y_test_categ = to_categorical(y_test)"
   ]
  },
  {
   "cell_type": "code",
   "execution_count": 12,
   "metadata": {
    "colab": {
     "base_uri": "https://localhost:8080/",
     "height": 35
    },
    "colab_type": "code",
    "executionInfo": {
     "elapsed": 912,
     "status": "ok",
     "timestamp": 1574046026237,
     "user": {
      "displayName": "Aldisio Medeiros",
      "photoUrl": "https://lh3.googleusercontent.com/a-/AAuE7mDqMDyy76lGgZL6hD7IkL12705SvVVAXigDVw-Z=s64",
      "userId": "04296451157711964812"
     },
     "user_tz": 180
    },
    "id": "gyiXrurDVxZ7",
    "outputId": "d140bc90-384f-4da6-ff83-63e436928da7"
   },
   "outputs": [
    {
     "data": {
      "text/plain": [
       "5"
      ]
     },
     "execution_count": 12,
     "metadata": {},
     "output_type": "execute_result"
    }
   ],
   "source": [
    "y_train[100]"
   ]
  },
  {
   "cell_type": "code",
   "execution_count": 13,
   "metadata": {
    "colab": {
     "base_uri": "https://localhost:8080/",
     "height": 35
    },
    "colab_type": "code",
    "executionInfo": {
     "elapsed": 1205,
     "status": "ok",
     "timestamp": 1574046027874,
     "user": {
      "displayName": "Aldisio Medeiros",
      "photoUrl": "https://lh3.googleusercontent.com/a-/AAuE7mDqMDyy76lGgZL6hD7IkL12705SvVVAXigDVw-Z=s64",
      "userId": "04296451157711964812"
     },
     "user_tz": 180
    },
    "id": "BbiBHlCSWN6r",
    "outputId": "4ecbaed3-1b81-4955-f744-5b6f14f4e661"
   },
   "outputs": [
    {
     "data": {
      "text/plain": [
       "array([0., 0., 0., 0., 0., 1., 0., 0., 0., 0.], dtype=float32)"
      ]
     },
     "execution_count": 13,
     "metadata": {},
     "output_type": "execute_result"
    }
   ],
   "source": [
    "y_train_categ[100]"
   ]
  },
  {
   "cell_type": "markdown",
   "metadata": {
    "colab_type": "text",
    "id": "M1idz9zCWbzW"
   },
   "source": [
    "# **Fully Connected Model**"
   ]
  },
  {
   "cell_type": "code",
   "execution_count": 14,
   "metadata": {
    "colab": {},
    "colab_type": "code",
    "id": "rRPyBmFHWf50"
   },
   "outputs": [],
   "source": [
    "from tensorflow.keras.models import Sequential\n",
    "from tensorflow.keras.layers import Dense\n",
    "from tensorflow.keras.optimizers import SGD\n",
    "from tensorflow.keras import backend\n",
    "backend.clear_session()\n",
    "\n",
    "#AM: Building the structure\n",
    "model = Sequential()\n",
    "model.add(Dense(512, input_dim=28*28, activation='relu'))\n",
    "model.add(Dense(256, activation='relu'))\n",
    "model.add(Dense(128, activation='relu'))\n",
    "model.add(Dense(32, activation='relu'))\n",
    "model.add(Dense(10, activation='softmax'))\n",
    "\n",
    "#AM: Compiling model\n",
    "model.compile(optimizer='rmsprop', loss='categorical_crossentropy', metrics=['accuracy'])\n"
   ]
  },
  {
   "cell_type": "code",
   "execution_count": 15,
   "metadata": {
    "colab": {
     "base_uri": "https://localhost:8080/",
     "height": 395
    },
    "colab_type": "code",
    "executionInfo": {
     "elapsed": 53677,
     "status": "ok",
     "timestamp": 1574046487520,
     "user": {
      "displayName": "Aldisio Medeiros",
      "photoUrl": "https://lh3.googleusercontent.com/a-/AAuE7mDqMDyy76lGgZL6hD7IkL12705SvVVAXigDVw-Z=s64",
      "userId": "04296451157711964812"
     },
     "user_tz": 180
    },
    "id": "NN7S1Bz-ZPQS",
    "outputId": "65e9bc94-0ab0-4ff0-e5da-3be109738d69"
   },
   "outputs": [
    {
     "name": "stdout",
     "output_type": "stream",
     "text": [
      "Train on 42000 samples, validate on 18000 samples\n",
      "Epoch 1/10\n",
      "42000/42000 [==============================] - 3s 64us/sample - loss: 0.3272 - accuracy: 0.8987 - val_loss: 0.2956 - val_accuracy: 0.9131\n",
      "Epoch 2/10\n",
      "42000/42000 [==============================] - 1s 23us/sample - loss: 0.1124 - accuracy: 0.9652 - val_loss: 0.1856 - val_accuracy: 0.9446\n",
      "Epoch 3/10\n",
      "42000/42000 [==============================] - 1s 23us/sample - loss: 0.0719 - accuracy: 0.9776 - val_loss: 0.1832 - val_accuracy: 0.9465\n",
      "Epoch 4/10\n",
      "42000/42000 [==============================] - 1s 23us/sample - loss: 0.0519 - accuracy: 0.9840 - val_loss: 0.1221 - val_accuracy: 0.9671\n",
      "Epoch 5/10\n",
      "42000/42000 [==============================] - 1s 23us/sample - loss: 0.0375 - accuracy: 0.9884 - val_loss: 0.1291 - val_accuracy: 0.9697\n",
      "Epoch 6/10\n",
      "42000/42000 [==============================] - 1s 23us/sample - loss: 0.0295 - accuracy: 0.9912 - val_loss: 0.1401 - val_accuracy: 0.9676\n",
      "Epoch 7/10\n",
      "42000/42000 [==============================] - 1s 24us/sample - loss: 0.0236 - accuracy: 0.9927 - val_loss: 0.1191 - val_accuracy: 0.9744\n",
      "Epoch 8/10\n",
      "42000/42000 [==============================] - 1s 23us/sample - loss: 0.0213 - accuracy: 0.9935 - val_loss: 0.1373 - val_accuracy: 0.9722\n",
      "Epoch 9/10\n",
      "42000/42000 [==============================] - 1s 24us/sample - loss: 0.0187 - accuracy: 0.9945 - val_loss: 0.1411 - val_accuracy: 0.9736\n",
      "Epoch 10/10\n",
      "42000/42000 [==============================] - 1s 23us/sample - loss: 0.0164 - accuracy: 0.9950 - val_loss: 0.1573 - val_accuracy: 0.9732\n"
     ]
    }
   ],
   "source": [
    "h = model.fit(X_train, y_train_categ, batch_size=128, epochs=10, verbose=1, validation_split=0.3)"
   ]
  },
  {
   "cell_type": "code",
   "execution_count": 16,
   "metadata": {
    "colab": {
     "base_uri": "https://localhost:8080/",
     "height": 55
    },
    "colab_type": "code",
    "executionInfo": {
     "elapsed": 1508,
     "status": "ok",
     "timestamp": 1574046494053,
     "user": {
      "displayName": "Aldisio Medeiros",
      "photoUrl": "https://lh3.googleusercontent.com/a-/AAuE7mDqMDyy76lGgZL6hD7IkL12705SvVVAXigDVw-Z=s64",
      "userId": "04296451157711964812"
     },
     "user_tz": 180
    },
    "id": "US0LYEuicM13",
    "outputId": "6214b726-af26-4eb4-dac7-a878aae7fbde"
   },
   "outputs": [
    {
     "name": "stdout",
     "output_type": "stream",
     "text": [
      "10000/10000 [==============================] - 0s 38us/sample - loss: 0.1123 - accuracy: 0.9778\n"
     ]
    }
   ],
   "source": [
    "results = model.evaluate(X_test, y_test_categ)"
   ]
  },
  {
   "cell_type": "code",
   "execution_count": 17,
   "metadata": {
    "colab": {
     "base_uri": "https://localhost:8080/",
     "height": 35
    },
    "colab_type": "code",
    "executionInfo": {
     "elapsed": 1145,
     "status": "ok",
     "timestamp": 1574046518364,
     "user": {
      "displayName": "Aldisio Medeiros",
      "photoUrl": "https://lh3.googleusercontent.com/a-/AAuE7mDqMDyy76lGgZL6hD7IkL12705SvVVAXigDVw-Z=s64",
      "userId": "04296451157711964812"
     },
     "user_tz": 180
    },
    "id": "_tW9a9GEddMF",
    "outputId": "f2ef5bc1-9800-46b9-ec1b-df2ff0c91ac5"
   },
   "outputs": [
    {
     "data": {
      "text/plain": [
       "[0.11229954807253717, 0.9778]"
      ]
     },
     "execution_count": 17,
     "metadata": {},
     "output_type": "execute_result"
    }
   ],
   "source": [
    "results"
   ]
  },
  {
   "cell_type": "code",
   "execution_count": 18,
   "metadata": {
    "colab": {
     "base_uri": "https://localhost:8080/",
     "height": 313
    },
    "colab_type": "code",
    "executionInfo": {
     "elapsed": 1361,
     "status": "ok",
     "timestamp": 1574046542931,
     "user": {
      "displayName": "Aldisio Medeiros",
      "photoUrl": "https://lh3.googleusercontent.com/a-/AAuE7mDqMDyy76lGgZL6hD7IkL12705SvVVAXigDVw-Z=s64",
      "userId": "04296451157711964812"
     },
     "user_tz": 180
    },
    "id": "IWU-HLpgdfGw",
    "outputId": "99586968-2698-415d-b3d2-efaae4423fa6"
   },
   "outputs": [
    {
     "data": {
      "text/plain": [
       "Text(0.5, 0, 'Epochs')"
      ]
     },
     "execution_count": 18,
     "metadata": {},
     "output_type": "execute_result"
    },
    {
     "data": {
      "image/png": "[encoded data removed]",
      "text/plain": [
       "<Figure size 432x288 with 1 Axes>"
      ]
     },
     "metadata": {
      "needs_background": "light"
     },
     "output_type": "display_data"
    }
   ],
   "source": [
    "plt.plot(h.history['accuracy'])\n",
    "plt.plot(h.history['val_accuracy'])\n",
    "plt.legend(['Training', 'Validation'])\n",
    "plt.title('Accuracy')\n",
    "plt.xlabel('Epochs')"
   ]
  },
  {
   "cell_type": "code",
   "execution_count": null,
   "metadata": {
    "colab": {},
    "colab_type": "code",
    "id": "XxzXMFh3eZue"
   },
   "outputs": [],
   "source": []
  }
 ],
 "metadata": {
  "accelerator": "GPU",
  "colab": {
   "name": "MNIST classification - Deep Learning version.ipynb",
   "provenance": []
  },
  "kernelspec": {
   "display_name": "Python 3",
   "language": "python",
   "name": "python3"
  },
  "language_info": {
   "codemirror_mode": {
    "name": "ipython",
    "version": 3
   },
   "file_extension": ".py",
   "mimetype": "text/x-python",
   "name": "python",
   "nbconvert_exporter": "python",
   "pygments_lexer": "ipython3",
   "version": "3.8.2"
  }
 },
 "nbformat": 4,
 "nbformat_minor": 1
}

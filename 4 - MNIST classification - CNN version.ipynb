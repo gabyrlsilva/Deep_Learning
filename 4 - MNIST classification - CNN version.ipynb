{
 "cells": [
  {
   "cell_type": "code",
   "execution_count": 1,
   "metadata": {
    "colab": {},
    "colab_type": "code",
    "id": "N1JRsEiTfasj"
   },
   "outputs": [],
   "source": [
    "import numpy as np\n",
    "import pandas as pd\n",
    "%matplotlib inline\n",
    "import matplotlib.pyplot as plt"
   ]
  },
  {
   "cell_type": "code",
   "execution_count": 2,
   "metadata": {
    "colab": {
     "base_uri": "https://localhost:8080/",
     "height": 1000
    },
    "colab_type": "code",
    "executionInfo": {
     "elapsed": 33245,
     "status": "ok",
     "timestamp": 1574046719718,
     "user": {
      "displayName": "Aldisio Medeiros",
      "photoUrl": "https://lh3.googleusercontent.com/a-/AAuE7mDqMDyy76lGgZL6hD7IkL12705SvVVAXigDVw-Z=s64",
      "userId": "04296451157711964812"
     },
     "user_tz": 180
    },
    "id": "IVY25vz9fj1Q",
    "outputId": "45701f60-bd45-4884-8579-8548f02b0dca"
   },
   "outputs": [],
   "source": [
    "#!pip install tensorflow==2.0.0"
   ]
  },
  {
   "cell_type": "markdown",
   "metadata": {
    "colab_type": "text",
    "id": "dH_J2nk_fqj3"
   },
   "source": [
    "# **Import MNIST Dataset**"
   ]
  },
  {
   "cell_type": "code",
   "execution_count": null,
   "metadata": {
    "colab": {
     "base_uri": "https://localhost:8080/",
     "height": 35
    },
    "colab_type": "code",
    "executionInfo": {
     "elapsed": 2890,
     "status": "ok",
     "timestamp": 1574046744140,
     "user": {
      "displayName": "Aldisio Medeiros",
      "photoUrl": "https://lh3.googleusercontent.com/a-/AAuE7mDqMDyy76lGgZL6hD7IkL12705SvVVAXigDVw-Z=s64",
      "userId": "04296451157711964812"
     },
     "user_tz": 180
    },
    "id": "2I-1tuFhflyT",
    "outputId": "23b6f45f-0584-4c1e-a52b-2f8d2bd1f218"
   },
   "outputs": [],
   "source": [
    "from keras.datasets import mnist"
   ]
  },
  {
   "cell_type": "code",
   "execution_count": null,
   "metadata": {
    "colab": {
     "base_uri": "https://localhost:8080/",
     "height": 53
    },
    "colab_type": "code",
    "executionInfo": {
     "elapsed": 3703,
     "status": "ok",
     "timestamp": 1574046750529,
     "user": {
      "displayName": "Aldisio Medeiros",
      "photoUrl": "https://lh3.googleusercontent.com/a-/AAuE7mDqMDyy76lGgZL6hD7IkL12705SvVVAXigDVw-Z=s64",
      "userId": "04296451157711964812"
     },
     "user_tz": 180
    },
    "id": "dLOOG6knfzKe",
    "outputId": "fe78e204-9c4b-4796-8c7b-a3cfe1f5c731"
   },
   "outputs": [],
   "source": [
    "(X_train, y_train), (X_test, y_test) = mnist.load_data(path='/tmp/mnist.npz')"
   ]
  },
  {
   "cell_type": "code",
   "execution_count": null,
   "metadata": {
    "colab": {
     "base_uri": "https://localhost:8080/",
     "height": 35
    },
    "colab_type": "code",
    "executionInfo": {
     "elapsed": 962,
     "status": "ok",
     "timestamp": 1574046756392,
     "user": {
      "displayName": "Aldisio Medeiros",
      "photoUrl": "https://lh3.googleusercontent.com/a-/AAuE7mDqMDyy76lGgZL6hD7IkL12705SvVVAXigDVw-Z=s64",
      "userId": "04296451157711964812"
     },
     "user_tz": 180
    },
    "id": "LDck1zHrf0hz",
    "outputId": "cc4ec9e0-f925-4ac5-8157-21de154d7b09"
   },
   "outputs": [],
   "source": [
    "X_train.shape"
   ]
  },
  {
   "cell_type": "code",
   "execution_count": null,
   "metadata": {
    "colab": {
     "base_uri": "https://localhost:8080/",
     "height": 265
    },
    "colab_type": "code",
    "executionInfo": {
     "elapsed": 1036,
     "status": "ok",
     "timestamp": 1574046786034,
     "user": {
      "displayName": "Aldisio Medeiros",
      "photoUrl": "https://lh3.googleusercontent.com/a-/AAuE7mDqMDyy76lGgZL6hD7IkL12705SvVVAXigDVw-Z=s64",
      "userId": "04296451157711964812"
     },
     "user_tz": 180
    },
    "id": "pQ8-wHN3f2oG",
    "outputId": "8ce62544-4213-439c-f73e-4dd25994f3f3"
   },
   "outputs": [],
   "source": [
    "plt.imshow(X_train[2], cmap='gray')\n",
    "plt.show()"
   ]
  },
  {
   "cell_type": "markdown",
   "metadata": {
    "colab_type": "text",
    "id": "KlRNOlMqk01U"
   },
   "source": [
    "## **One hot encoding**"
   ]
  },
  {
   "cell_type": "code",
   "execution_count": 7,
   "metadata": {
    "colab": {},
    "colab_type": "code",
    "id": "j7VqDBc-k3Qw"
   },
   "outputs": [
    {
     "data": {
      "text/plain": [
       "1"
      ]
     },
     "execution_count": 7,
     "metadata": {},
     "output_type": "execute_result"
    }
   ],
   "source": [
    "#AM: Adjust label to One-Hot encoding\n",
    "from keras.utils.np_utils import to_categorical\n",
    "\n",
    "#AM: Transform values 1 to 000000001, 2 to 000000010, 3 to 000000100, etc\n",
    "y_train_categ = to_categorical(y_train) \n",
    "y_test_categ = to_categorical(y_test)\n",
    "\n",
    "y_train[3]"
   ]
  },
  {
   "cell_type": "markdown",
   "metadata": {
    "colab_type": "text",
    "id": "Ef2_7HTGgF0z"
   },
   "source": [
    "# **Adjusting to tensor input format**"
   ]
  },
  {
   "cell_type": "code",
   "execution_count": 8,
   "metadata": {
    "colab": {},
    "colab_type": "code",
    "id": "BM-AWa8kf8s7"
   },
   "outputs": [],
   "source": [
    "X_train = X_train.reshape(-1, 28, 28, 1)\n",
    "X_test = X_test.reshape(-1, 28, 28, 1)"
   ]
  },
  {
   "cell_type": "code",
   "execution_count": 9,
   "metadata": {
    "colab": {
     "base_uri": "https://localhost:8080/",
     "height": 35
    },
    "colab_type": "code",
    "executionInfo": {
     "elapsed": 1084,
     "status": "ok",
     "timestamp": 1574048097208,
     "user": {
      "displayName": "Aldisio Medeiros",
      "photoUrl": "https://lh3.googleusercontent.com/a-/AAuE7mDqMDyy76lGgZL6hD7IkL12705SvVVAXigDVw-Z=s64",
      "userId": "04296451157711964812"
     },
     "user_tz": 180
    },
    "id": "Hx8gvQyUgRIm",
    "outputId": "5ef4f6df-a804-405a-cffa-7e3dbd842813"
   },
   "outputs": [
    {
     "data": {
      "text/plain": [
       "(60000, 28, 28, 1)"
      ]
     },
     "execution_count": 9,
     "metadata": {},
     "output_type": "execute_result"
    }
   ],
   "source": [
    "X_train.shape"
   ]
  },
  {
   "cell_type": "markdown",
   "metadata": {
    "colab_type": "text",
    "id": "Y3d-VkxOgWlg"
   },
   "source": [
    "# **Convolutional Neural Network - CNN**"
   ]
  },
  {
   "cell_type": "code",
   "execution_count": 10,
   "metadata": {
    "colab": {},
    "colab_type": "code",
    "id": "aghVF0i0gVxn"
   },
   "outputs": [],
   "source": [
    "from tensorflow.keras.models import Sequential\n",
    "from tensorflow.keras.layers import Flatten, Activation, Conv2D, MaxPool2D, Dense\n",
    "from tensorflow.keras import backend \n"
   ]
  },
  {
   "cell_type": "code",
   "execution_count": null,
   "metadata": {
    "colab": {},
    "colab_type": "code",
    "id": "hU10Bb0fgSuB"
   },
   "outputs": [],
   "source": [
    "backend.clear_session()\n",
    "\n",
    "#AM: Feature extraction stages\n",
    "model = Sequential()\n",
    "model.add(Conv2D(64, (3,3), input_shape=(28, 28, 1), padding=('valid')))\n",
    "model.add(MaxPool2D(pool_size=(2,2)))\n",
    "model.add(Activation('relu'))\n",
    "\n",
    "model.add(Flatten())\n",
    "\n",
    "#AM: Fully connected stages (Classification)\n",
    "model.add(Dense(128, activation='relu'))\n",
    "model.add(Dense(10, activation='softmax'))\n",
    "\n",
    "model.compile(optimizer='rmsprop', loss='categorical_crossentropy', metrics=['accuracy'])"
   ]
  },
  {
   "cell_type": "code",
   "execution_count": null,
   "metadata": {
    "colab": {
     "base_uri": "https://localhost:8080/",
     "height": 377
    },
    "colab_type": "code",
    "executionInfo": {
     "elapsed": 997,
     "status": "ok",
     "timestamp": 1574048811778,
     "user": {
      "displayName": "Aldisio Medeiros",
      "photoUrl": "https://lh3.googleusercontent.com/a-/AAuE7mDqMDyy76lGgZL6hD7IkL12705SvVVAXigDVw-Z=s64",
      "userId": "04296451157711964812"
     },
     "user_tz": 180
    },
    "id": "8JlbbYlkhUqX",
    "outputId": "9715cfad-397b-4bd3-a766-6a4313ce8aae"
   },
   "outputs": [],
   "source": [
    "#AM: Show model struture\n",
    "#Question: Do you understand the 'Param' field?\n",
    "#Question: Do you understand why conv2d is (None, 28, 28, 64)?\n",
    "model.summary()"
   ]
  },
  {
   "cell_type": "code",
   "execution_count": null,
   "metadata": {
    "colab": {
     "base_uri": "https://localhost:8080/",
     "height": 235
    },
    "colab_type": "code",
    "executionInfo": {
     "elapsed": 184456,
     "status": "ok",
     "timestamp": 1574048999122,
     "user": {
      "displayName": "Aldisio Medeiros",
      "photoUrl": "https://lh3.googleusercontent.com/a-/AAuE7mDqMDyy76lGgZL6hD7IkL12705SvVVAXigDVw-Z=s64",
      "userId": "04296451157711964812"
     },
     "user_tz": 180
    },
    "id": "dCC0pawUiZSV",
    "outputId": "72198f26-c684-4ba1-eeac-3b72323ce95c"
   },
   "outputs": [],
   "source": [
    "h = model.fit(X_train, y_train_categ, batch_size=128, epochs=10, verbose=1, validation_split=0.3)"
   ]
  },
  {
   "cell_type": "code",
   "execution_count": null,
   "metadata": {
    "colab": {
     "base_uri": "https://localhost:8080/",
     "height": 73
    },
    "colab_type": "code",
    "executionInfo": {
     "elapsed": 3362,
     "status": "ok",
     "timestamp": 1574049045318,
     "user": {
      "displayName": "Aldisio Medeiros",
      "photoUrl": "https://lh3.googleusercontent.com/a-/AAuE7mDqMDyy76lGgZL6hD7IkL12705SvVVAXigDVw-Z=s64",
      "userId": "04296451157711964812"
     },
     "user_tz": 180
    },
    "id": "n96CpBlQlZhw",
    "outputId": "a2ef6b8d-fe23-4011-9799-acebce3bf628"
   },
   "outputs": [],
   "source": [
    "model.evaluate(X_test, y_test_categ)"
   ]
  },
  {
   "cell_type": "code",
   "execution_count": null,
   "metadata": {
    "colab": {
     "base_uri": "https://localhost:8080/",
     "height": 313
    },
    "colab_type": "code",
    "executionInfo": {
     "elapsed": 1106,
     "status": "ok",
     "timestamp": 1574049061855,
     "user": {
      "displayName": "Aldisio Medeiros",
      "photoUrl": "https://lh3.googleusercontent.com/a-/AAuE7mDqMDyy76lGgZL6hD7IkL12705SvVVAXigDVw-Z=s64",
      "userId": "04296451157711964812"
     },
     "user_tz": 180
    },
    "id": "WEV625vJlPCb",
    "outputId": "e5204f47-6320-4101-e8c9-65e9b492d709"
   },
   "outputs": [],
   "source": [
    "plt.plot(h.history['accuracy'])\n",
    "plt.plot(h.history['val_accuracy'])\n",
    "plt.legend(['Training', 'Validation'])\n",
    "plt.title('Accuracy')\n",
    "plt.xlabel('Epochs')"
   ]
  },
  {
   "cell_type": "code",
   "execution_count": null,
   "metadata": {
    "colab": {},
    "colab_type": "code",
    "id": "qiCpigq4lhRu"
   },
   "outputs": [],
   "source": []
  }
 ],
 "metadata": {
  "accelerator": "GPU",
  "colab": {
   "collapsed_sections": [],
   "name": "MNIST classification - CNN version.ipynb",
   "provenance": []
  },
  "kernelspec": {
   "display_name": "Python 3",
   "language": "python",
   "name": "python3"
  },
  "language_info": {
   "codemirror_mode": {
    "name": "ipython",
    "version": 3
   },
   "file_extension": ".py",
   "mimetype": "text/x-python",
   "name": "python",
   "nbconvert_exporter": "python",
   "pygments_lexer": "ipython3",
   "version": "3.8.2"
  }
 },
 "nbformat": 4,
 "nbformat_minor": 1
}
